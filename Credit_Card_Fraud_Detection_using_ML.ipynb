{
  "nbformat": 4,
  "nbformat_minor": 0,
  "metadata": {
    "colab": {
      "provenance": []
    },
    "kernelspec": {
      "name": "python3",
      "display_name": "Python 3"
    },
    "language_info": {
      "name": "python"
    }
  },
  "cells": [
    {
      "cell_type": "code",
      "source": [
        "#!pip install ISLP"
      ],
      "metadata": {
        "id": "3U6u29H2p0Gq"
      },
      "execution_count": null,
      "outputs": []
    },
    {
      "cell_type": "markdown",
      "source": [
        "Results: The KNN model provides the best performance for fraud detection\n",
        "\n",
        "![image.png](data:image/png;base64,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)"
      ],
      "metadata": {
        "id": "_HUaObL3m9uM"
      }
    },
    {
      "cell_type": "code",
      "execution_count": null,
      "metadata": {
        "id": "ziZRpmfzoid-"
      },
      "outputs": [],
      "source": [
        "import pandas as pd\n",
        "import numpy as np\n",
        "import matplotlib.pyplot as plt\n",
        "import seaborn as sns\n",
        "from sklearn.model_selection import train_test_split\n",
        "from sklearn.preprocessing import StandardScaler\n",
        "from sklearn.linear_model import LogisticRegression\n",
        "from sklearn.discriminant_analysis import LinearDiscriminantAnalysis as LDA\n",
        "from sklearn.discriminant_analysis import QuadraticDiscriminantAnalysis as QDA\n",
        "from sklearn.neighbors import KNeighborsClassifier\n",
        "from sklearn.naive_bayes import GaussianNB\n",
        "from sklearn.metrics import confusion_matrix, classification_report, accuracy_score, roc_curve, auc, roc_auc_score, precision_score, recall_score, f1_score\n",
        "from sklearn.ensemble import VotingClassifier\n",
        "import statsmodels.api as sm\n",
        "import torch\n",
        "import torch.nn as nn\n",
        "import torch.optim as optim\n",
        "from torch.utils.data import DataLoader, TensorDataset\n",
        "from scipy.stats import mode\n"
      ]
    },
    {
      "cell_type": "code",
      "source": [
        "# Load dataset\n",
        "file_path = \"creditcard.csv\"\n",
        "credit_data = pd.read_csv(file_path)\n",
        "\n",
        "# Inspect data\n",
        "print(credit_data.head())\n",
        "\n"
      ],
      "metadata": {
        "colab": {
          "base_uri": "https://localhost:8080/"
        },
        "id": "d7eopTCdorDZ",
        "outputId": "60089831-df33-4766-cad1-3cb5aec618cd"
      },
      "execution_count": null,
      "outputs": [
        {
          "output_type": "stream",
          "name": "stdout",
          "text": [
            "   Time        V1        V2        V3        V4        V5        V6        V7  \\\n",
            "0   0.0 -1.359807 -0.072781  2.536347  1.378155 -0.338321  0.462388  0.239599   \n",
            "1   0.0  1.191857  0.266151  0.166480  0.448154  0.060018 -0.082361 -0.078803   \n",
            "2   1.0 -1.358354 -1.340163  1.773209  0.379780 -0.503198  1.800499  0.791461   \n",
            "3   1.0 -0.966272 -0.185226  1.792993 -0.863291 -0.010309  1.247203  0.237609   \n",
            "4   2.0 -1.158233  0.877737  1.548718  0.403034 -0.407193  0.095921  0.592941   \n",
            "\n",
            "         V8        V9  ...       V21       V22       V23       V24       V25  \\\n",
            "0  0.098698  0.363787  ... -0.018307  0.277838 -0.110474  0.066928  0.128539   \n",
            "1  0.085102 -0.255425  ... -0.225775 -0.638672  0.101288 -0.339846  0.167170   \n",
            "2  0.247676 -1.514654  ...  0.247998  0.771679  0.909412 -0.689281 -0.327642   \n",
            "3  0.377436 -1.387024  ... -0.108300  0.005274 -0.190321 -1.175575  0.647376   \n",
            "4 -0.270533  0.817739  ... -0.009431  0.798278 -0.137458  0.141267 -0.206010   \n",
            "\n",
            "        V26       V27       V28  Amount  Class  \n",
            "0 -0.189115  0.133558 -0.021053  149.62      0  \n",
            "1  0.125895 -0.008983  0.014724    2.69      0  \n",
            "2 -0.139097 -0.055353 -0.059752  378.66      0  \n",
            "3 -0.221929  0.062723  0.061458  123.50      0  \n",
            "4  0.502292  0.219422  0.215153   69.99      0  \n",
            "\n",
            "[5 rows x 31 columns]\n"
          ]
        }
      ]
    },
    {
      "cell_type": "code",
      "source": [
        "# Check for missing values\n",
        "print(credit_data.isnull().sum().sum())  # No missing values expected"
      ],
      "metadata": {
        "colab": {
          "base_uri": "https://localhost:8080/"
        },
        "id": "tUiLkobIGojl",
        "outputId": "4ac4c131-15a6-41cd-9bca-b75a1236944c"
      },
      "execution_count": null,
      "outputs": [
        {
          "output_type": "stream",
          "name": "stdout",
          "text": [
            "0\n"
          ]
        }
      ]
    },
    {
      "cell_type": "code",
      "source": [
        "print(credit_data.info())"
      ],
      "metadata": {
        "id": "G0SxsvEZqdWt",
        "colab": {
          "base_uri": "https://localhost:8080/"
        },
        "outputId": "78ae1359-7c1b-48a9-cdfb-e80a9790a298"
      },
      "execution_count": null,
      "outputs": [
        {
          "output_type": "stream",
          "name": "stdout",
          "text": [
            "<class 'pandas.core.frame.DataFrame'>\n",
            "RangeIndex: 284807 entries, 0 to 284806\n",
            "Data columns (total 31 columns):\n",
            " #   Column  Non-Null Count   Dtype  \n",
            "---  ------  --------------   -----  \n",
            " 0   Time    284807 non-null  float64\n",
            " 1   V1      284807 non-null  float64\n",
            " 2   V2      284807 non-null  float64\n",
            " 3   V3      284807 non-null  float64\n",
            " 4   V4      284807 non-null  float64\n",
            " 5   V5      284807 non-null  float64\n",
            " 6   V6      284807 non-null  float64\n",
            " 7   V7      284807 non-null  float64\n",
            " 8   V8      284807 non-null  float64\n",
            " 9   V9      284807 non-null  float64\n",
            " 10  V10     284807 non-null  float64\n",
            " 11  V11     284807 non-null  float64\n",
            " 12  V12     284807 non-null  float64\n",
            " 13  V13     284807 non-null  float64\n",
            " 14  V14     284807 non-null  float64\n",
            " 15  V15     284807 non-null  float64\n",
            " 16  V16     284807 non-null  float64\n",
            " 17  V17     284807 non-null  float64\n",
            " 18  V18     284807 non-null  float64\n",
            " 19  V19     284807 non-null  float64\n",
            " 20  V20     284807 non-null  float64\n",
            " 21  V21     284807 non-null  float64\n",
            " 22  V22     284807 non-null  float64\n",
            " 23  V23     284807 non-null  float64\n",
            " 24  V24     284807 non-null  float64\n",
            " 25  V25     284807 non-null  float64\n",
            " 26  V26     284807 non-null  float64\n",
            " 27  V27     284807 non-null  float64\n",
            " 28  V28     284807 non-null  float64\n",
            " 29  Amount  284807 non-null  float64\n",
            " 30  Class   284807 non-null  int64  \n",
            "dtypes: float64(30), int64(1)\n",
            "memory usage: 67.4 MB\n",
            "None\n"
          ]
        }
      ]
    },
    {
      "cell_type": "code",
      "source": [
        "print(credit_data.describe())"
      ],
      "metadata": {
        "id": "uM6jd9HNq4fK",
        "colab": {
          "base_uri": "https://localhost:8080/"
        },
        "outputId": "cf799743-e113-4582-8727-92b4aebbf5d2"
      },
      "execution_count": null,
      "outputs": [
        {
          "output_type": "stream",
          "name": "stdout",
          "text": [
            "                Time            V1            V2            V3            V4  \\\n",
            "count  284807.000000  2.848070e+05  2.848070e+05  2.848070e+05  2.848070e+05   \n",
            "mean    94813.859575  1.804747e-12 -6.644481e-13 -5.733476e-13  7.602684e-13   \n",
            "std     47488.145955  1.958696e+00  1.651309e+00  1.516255e+00  1.415869e+00   \n",
            "min         0.000000 -5.640751e+01 -7.271573e+01 -4.832559e+01 -5.683171e+00   \n",
            "25%     54201.500000 -9.203734e-01 -5.985499e-01 -8.903648e-01 -8.486401e-01   \n",
            "50%     84692.000000  1.810880e-02  6.548556e-02  1.798463e-01 -1.984653e-02   \n",
            "75%    139320.500000  1.315642e+00  8.037239e-01  1.027196e+00  7.433413e-01   \n",
            "max    172792.000000  2.454930e+00  2.205773e+01  9.382558e+00  1.687534e+01   \n",
            "\n",
            "                 V5            V6            V7            V8            V9  \\\n",
            "count  2.848070e+05  2.848070e+05  2.848070e+05  2.848070e+05  2.848070e+05   \n",
            "mean   2.290382e-13  6.119060e-14  3.241792e-14 -5.131360e-13 -7.735175e-13   \n",
            "std    1.380247e+00  1.332271e+00  1.237094e+00  1.194353e+00  1.098632e+00   \n",
            "min   -1.137433e+02 -2.616051e+01 -4.355724e+01 -7.321672e+01 -1.343407e+01   \n",
            "25%   -6.915971e-01 -7.682956e-01 -5.540759e-01 -2.086297e-01 -6.430976e-01   \n",
            "50%   -5.433583e-02 -2.741871e-01  4.010308e-02  2.235804e-02 -5.142873e-02   \n",
            "75%    6.119264e-01  3.985649e-01  5.704361e-01  3.273459e-01  5.971390e-01   \n",
            "max    3.480167e+01  7.330163e+01  1.205895e+02  2.000721e+01  1.559499e+01   \n",
            "\n",
            "       ...           V21           V22           V23           V24  \\\n",
            "count  ...  2.848070e+05  2.848070e+05  2.848070e+05  2.848070e+05   \n",
            "mean   ... -1.365215e-12 -7.572798e-13 -1.814482e-13  1.067890e-12   \n",
            "std    ...  7.345240e-01  7.257016e-01  6.244603e-01  6.056471e-01   \n",
            "min    ... -3.483038e+01 -1.093314e+01 -4.480774e+01 -2.836627e+00   \n",
            "25%    ... -2.283949e-01 -5.423504e-01 -1.618463e-01 -3.545861e-01   \n",
            "50%    ... -2.945017e-02  6.781943e-03 -1.119293e-02  4.097606e-02   \n",
            "75%    ...  1.863772e-01  5.285536e-01  1.476421e-01  4.395266e-01   \n",
            "max    ...  2.720284e+01  1.050309e+01  2.252841e+01  4.584549e+00   \n",
            "\n",
            "                V25           V26           V27           V28         Amount  \\\n",
            "count  2.848070e+05  2.848070e+05  2.848070e+05  2.848070e+05  284807.000000   \n",
            "mean  -6.013363e-13 -1.204946e-13  2.643612e-12 -3.222971e-12      88.349619   \n",
            "std    5.212781e-01  4.822270e-01  4.036325e-01  3.300833e-01     250.120109   \n",
            "min   -1.029540e+01 -2.604551e+00 -2.256568e+01 -1.543008e+01       0.000000   \n",
            "25%   -3.171451e-01 -3.269839e-01 -7.083953e-02 -5.295979e-02       5.600000   \n",
            "50%    1.659350e-02 -5.213911e-02  1.342146e-03  1.124383e-02      22.000000   \n",
            "75%    3.507156e-01  2.409522e-01  9.104512e-02  7.827995e-02      77.165000   \n",
            "max    7.519589e+00  3.517346e+00  3.161220e+01  3.384781e+01   25691.160000   \n",
            "\n",
            "               Class  \n",
            "count  284807.000000  \n",
            "mean        0.001727  \n",
            "std         0.041527  \n",
            "min         0.000000  \n",
            "25%         0.000000  \n",
            "50%         0.000000  \n",
            "75%         0.000000  \n",
            "max         1.000000  \n",
            "\n",
            "[8 rows x 31 columns]\n"
          ]
        }
      ]
    },
    {
      "cell_type": "code",
      "source": [
        "# Change the scaling Show as % for y\n",
        "# Calculate the percentage distribution of each class\n",
        "class_distribution = credit_data['Class'].value_counts(normalize=True) * 100\n",
        "\n",
        "# Plotting the percentage distribution\n",
        "sns.barplot(x=class_distribution.index, y=class_distribution.values)\n",
        "plt.title('Class Distribution (0 = Non-Fraud, 1 = Fraud)')\n",
        "plt.xlabel('Class')\n",
        "plt.ylabel('Percentage (%)')\n",
        "\n",
        "# Adding percentage values on the bars\n",
        "for i, value in enumerate(class_distribution.values):\n",
        "    plt.text(i, value + 0.1, f'{value:.2f}%', ha='center', va='bottom', fontsize=10)\n",
        "\n",
        "plt.show()"
      ],
      "metadata": {
        "colab": {
          "base_uri": "https://localhost:8080/",
          "height": 472
        },
        "id": "IvJkopX4ThzA",
        "outputId": "0872fc89-e1ad-4630-c20c-21a58c63d3a5"
      },
      "execution_count": null,
      "outputs": [
        {
          "output_type": "display_data",
          "data": {
            "text/plain": [
              "<Figure size 640x480 with 1 Axes>"
            ],
            "image/png": "[encoded data removed]"
          },
          "metadata": {}
        }
      ]
    },
    {
      "cell_type": "code",
      "source": [
        "# Defining features and labels\n",
        "X = credit_data.drop(['Class', 'Time'], axis=1)  # Dropping 'Time' as it's not relevant\n",
        "y = credit_data['Class']"
      ],
      "metadata": {
        "id": "INy63s4_HYHD"
      },
      "execution_count": null,
      "outputs": []
    },
    {
      "cell_type": "markdown",
      "source": [
        "Evaluation Matrix:\n",
        "\n",
        "> Precision: Out of all samples predicted as fraud (1), how many were truly fraud.\n",
        "\n",
        "> Recall: Out of all actual fraud cases, how many were correctly detected.\n",
        "\n",
        "> F1-Score: Harmonic mean of precision and recall, balancing both.\n",
        "\n",
        "> Accuracy: The overall percentage of correct predictions.\n",
        "\n"
      ],
      "metadata": {
        "id": "AyRxxj5dHJh5"
      }
    },
    {
      "cell_type": "code",
      "source": [
        "# Split data into training (80%) and test (20%) sets\n",
        "X_train, X_test, y_train, y_test = train_test_split(X, y, test_size=0.2, train_size=0.8, random_state=42, stratify=y)\n",
        "# The stratify=y ensures the class distribution of y (fraud/not fraud) is preserved in the train and test sets.\n",
        "\n",
        "# Standardize features if Stdev is not 1\n",
        "scaler = StandardScaler()   # The features are scaled using StandardScaler(), which scales data to have zero mean and unit variance.\n",
        "X_train_scaled = scaler.fit_transform(X_train)\n",
        "X_test_scaled = scaler.transform(X_test)\n",
        "# fit_transform() is applied to the training data, and transform() to the testing data.\n",
        "\n",
        "# Train logistic regression model\n",
        "log_reg = LogisticRegression()\n",
        "log_reg.fit(X_train_scaled, y_train)\n",
        "\n",
        "# Make predictions\n",
        "y_pred_logreg = log_reg.predict(X_test_scaled)\n",
        "\n",
        "# Evaluate model\n",
        "print(\"Confusion Matrix:\")\n",
        "print(confusion_matrix(y_test, y_pred_logreg))\n",
        "print(\"Classification Report:\")\n",
        "print(classification_report(y_test, y_pred_logreg))\n",
        "print(\"Accuracy:\", accuracy_score(y_test, y_pred_logreg))\n"
      ],
      "metadata": {
        "colab": {
          "base_uri": "https://localhost:8080/"
        },
        "id": "WMtzVBeDpAmd",
        "outputId": "72832d55-440c-46c6-8039-ccaf021d699c"
      },
      "execution_count": null,
      "outputs": [
        {
          "output_type": "stream",
          "name": "stdout",
          "text": [
            "Confusion Matrix:\n",
            "[[56851    13]\n",
            " [   35    63]]\n",
            "Classification Report:\n",
            "              precision    recall  f1-score   support\n",
            "\n",
            "           0       1.00      1.00      1.00     56864\n",
            "           1       0.83      0.64      0.72        98\n",
            "\n",
            "    accuracy                           1.00     56962\n",
            "   macro avg       0.91      0.82      0.86     56962\n",
            "weighted avg       1.00      1.00      1.00     56962\n",
            "\n",
            "Accuracy: 0.9991573329588147\n"
          ]
        }
      ]
    },
    {
      "cell_type": "code",
      "source": [
        "print(sum(y_test))\n",
        "print(len(y_test))\n",
        "sum(y_test)/len(y_test)"
      ],
      "metadata": {
        "id": "ko4z7KmlhjLm",
        "colab": {
          "base_uri": "https://localhost:8080/"
        },
        "outputId": "de0c5d01-2065-49b8-b764-3f8203ae3925"
      },
      "execution_count": null,
      "outputs": [
        {
          "output_type": "stream",
          "name": "stdout",
          "text": [
            "98\n",
            "56962\n"
          ]
        },
        {
          "output_type": "execute_result",
          "data": {
            "text/plain": [
              "0.0017204452090867595"
            ]
          },
          "metadata": {},
          "execution_count": 11
        }
      ]
    },
    {
      "cell_type": "code",
      "source": [
        "# Confusion Matrix for Logistic Regression\n",
        "conf_matrix = confusion_matrix(y_test, y_pred_logreg)\n",
        "sns.heatmap(conf_matrix, annot=True, fmt='d', cmap='Blues')\n",
        "plt.title('Logistic Regression Confusion Matrix')\n",
        "plt.xlabel('Predicted')\n",
        "plt.ylabel('Actual')\n",
        "plt.show()\n"
      ],
      "metadata": {
        "colab": {
          "base_uri": "https://localhost:8080/",
          "height": 472
        },
        "id": "WaB2N_3sEXTV",
        "outputId": "d30daff3-0060-4222-aa9f-8251aab54ec5"
      },
      "execution_count": null,
      "outputs": [
        {
          "output_type": "display_data",
          "data": {
            "text/plain": [
              "<Figure size 640x480 with 2 Axes>"
            ],
            "image/png": "[encoded data removed]"
          },
          "metadata": {}
        }
      ]
    },
    {
      "cell_type": "code",
      "source": [
        "# use logistic reg chapter 4 equation table 4.1 and 4.2\n",
        "# Getting coefficients, std errors, z-scores, and p-values using statsmodels\n",
        "X_train_sm = sm.add_constant(X_train_scaled)  # Adding constant for intercept\n",
        "logit_model = sm.Logit(y_train, X_train_sm)\n",
        "result = logit_model.fit()\n",
        "print(result.summary())\n",
        "\n",
        "#MLE Maximum Likelihood estimation\n",
        "# statistical method used to estimate the parameters of a model by maximizing the likelihood function,\n",
        "# which measures how well the model explains the observed data."
      ],
      "metadata": {
        "colab": {
          "base_uri": "https://localhost:8080/"
        },
        "id": "DLtU1tt3thFE",
        "outputId": "df34b5fb-024a-4083-f472-a345880c2e2c"
      },
      "execution_count": null,
      "outputs": [
        {
          "output_type": "stream",
          "name": "stdout",
          "text": [
            "Optimization terminated successfully.\n",
            "         Current function value: 0.003796\n",
            "         Iterations 14\n",
            "                           Logit Regression Results                           \n",
            "==============================================================================\n",
            "Dep. Variable:                  Class   No. Observations:               227845\n",
            "Model:                          Logit   Df Residuals:                   227815\n",
            "Method:                           MLE   Df Model:                           29\n",
            "Date:                Thu, 12 Jun 2025   Pseudo R-squ.:                  0.7017\n",
            "Time:                        21:31:11   Log-Likelihood:                -864.98\n",
            "converged:                       True   LL-Null:                       -2899.5\n",
            "Covariance Type:            nonrobust   LLR p-value:                     0.000\n",
            "==============================================================================\n",
            "                 coef    std err          z      P>|z|      [0.025      0.975]\n",
            "------------------------------------------------------------------------------\n",
            "const         -8.8634      0.188    -47.107      0.000      -9.232      -8.495\n",
            "x1             0.1396      0.093      1.506      0.132      -0.042       0.321\n",
            "x2             0.0923      0.120      0.767      0.443      -0.143       0.328\n",
            "x3             0.0087      0.078      0.111      0.912      -0.144       0.162\n",
            "x4             1.1364      0.142      8.006      0.000       0.858       1.415\n",
            "x5             0.2132      0.111      1.928      0.054      -0.004       0.430\n",
            "x6            -0.1609      0.115     -1.394      0.163      -0.387       0.065\n",
            "x7            -0.0941      0.100     -0.941      0.347      -0.290       0.102\n",
            "x8            -0.1734      0.042     -4.164      0.000      -0.255      -0.092\n",
            "x9            -0.2344      0.157     -1.495      0.135      -0.542       0.073\n",
            "x10           -0.9582      0.129     -7.436      0.000      -1.211      -0.706\n",
            "x11           -0.0553      0.088     -0.631      0.528      -0.227       0.117\n",
            "x12            0.2039      0.115      1.780      0.075      -0.021       0.429\n",
            "x13           -0.4705      0.095     -4.959      0.000      -0.656      -0.285\n",
            "x14           -0.5281      0.072     -7.335      0.000      -0.669      -0.387\n",
            "x15           -0.0777      0.089     -0.870      0.384      -0.253       0.097\n",
            "x16           -0.2662      0.134     -1.988      0.047      -0.529      -0.004\n",
            "x17           -0.0613      0.074     -0.829      0.407      -0.206       0.084\n",
            "x18            0.0316      0.133      0.238      0.812      -0.229       0.292\n",
            "x19           -0.0264      0.094     -0.282      0.778      -0.210       0.157\n",
            "x20           -0.3863      0.071     -5.446      0.000      -0.525      -0.247\n",
            "x21            0.2708      0.050      5.382      0.000       0.172       0.369\n",
            "x22            0.4174      0.110      3.801      0.000       0.202       0.633\n",
            "x23           -0.0517      0.038     -1.345      0.179      -0.127       0.024\n",
            "x24            0.0453      0.103      0.440      0.660      -0.157       0.247\n",
            "x25           -0.0415      0.076     -0.549      0.583      -0.190       0.107\n",
            "x26            0.0263      0.109      0.241      0.810      -0.188       0.240\n",
            "x27           -0.3230      0.055     -5.924      0.000      -0.430      -0.216\n",
            "x28           -0.0809      0.032     -2.528      0.011      -0.144      -0.018\n",
            "x29            0.2465      0.103      2.382      0.017       0.044       0.449\n",
            "==============================================================================\n",
            "\n",
            "Possibly complete quasi-separation: A fraction 0.37 of observations can be\n",
            "perfectly predicted. This might indicate that there is complete\n",
            "quasi-separation. In this case some parameters will not be identified.\n"
          ]
        }
      ]
    },
    {
      "cell_type": "markdown",
      "source": [
        "📌 Coefficient Table:\n",
        "\n",
        "coef (Coefficient): The effect size of each feature. Positive values indicate that an increase in the feature value increases the probability of the positive class, while negative values decrease it.\n",
        "\n",
        "std err (Standard Error): Indicates the precision of the coefficient estimate. Smaller values suggest more precise estimates.\n",
        "\n",
        "z: The test statistic, calculated as coef / std err. Higher absolute values indicate stronger evidence against the null hypothesis.\n",
        "\n",
        "P>|z| (p-value): Indicates statistical significance. Values less than 0.05 generally imply that the predictor is significant.\n",
        "\n",
        "[0.025 0.975]: The 95% confidence interval for the coefficient. If it crosses zero, the coefficient is not statistically significant."
      ],
      "metadata": {
        "id": "qjpokRSWJxbc"
      }
    },
    {
      "cell_type": "code",
      "source": [
        "# LDA\n",
        "lda = LDA()\n",
        "lda.fit(X_train_scaled, y_train) # train LDA model\n",
        "y_pred_lda = lda.predict(X_test_scaled) #Make prediction\n",
        "\n",
        "print('LDA Report:')\n",
        "# Evaluate model\n",
        "print(\"Confusion Matrix:\")\n",
        "print(confusion_matrix(y_test, y_pred_lda))\n",
        "print(\"Classification Report:\")\n",
        "print(classification_report(y_test, y_pred_lda))\n",
        "print(\"Accuracy:\", accuracy_score(y_test, y_pred_lda))"
      ],
      "metadata": {
        "colab": {
          "base_uri": "https://localhost:8080/"
        },
        "id": "826pCUn0AJXD",
        "outputId": "fba0bc5d-476b-4359-b332-40822cf8f090"
      },
      "execution_count": null,
      "outputs": [
        {
          "output_type": "stream",
          "name": "stdout",
          "text": [
            "LDA Report:\n",
            "Confusion Matrix:\n",
            "[[56847    17]\n",
            " [   19    79]]\n",
            "Classification Report:\n",
            "              precision    recall  f1-score   support\n",
            "\n",
            "           0       1.00      1.00      1.00     56864\n",
            "           1       0.82      0.81      0.81        98\n",
            "\n",
            "    accuracy                           1.00     56962\n",
            "   macro avg       0.91      0.90      0.91     56962\n",
            "weighted avg       1.00      1.00      1.00     56962\n",
            "\n",
            "Accuracy: 0.9993679997191109\n"
          ]
        }
      ]
    },
    {
      "cell_type": "code",
      "source": [
        "# Confusion Matrix for LDA\n",
        "conf_matrix = confusion_matrix(y_test, y_pred_lda)\n",
        "sns.heatmap(conf_matrix, annot=True, fmt='d', cmap='Blues')\n",
        "plt.title('LDA Confusion Matrix')\n",
        "plt.xlabel('Predicted')\n",
        "plt.ylabel('Actual')\n",
        "plt.show()"
      ],
      "metadata": {
        "colab": {
          "base_uri": "https://localhost:8080/",
          "height": 472
        },
        "id": "uVxuXS5XEywW",
        "outputId": "bff49453-daf9-4542-f145-ff2e3fe1ea3b"
      },
      "execution_count": null,
      "outputs": [
        {
          "output_type": "display_data",
          "data": {
            "text/plain": [
              "<Figure size 640x480 with 2 Axes>"
            ],
            "image/png": "[encoded data removed]"
          },
          "metadata": {}
        }
      ]
    },
    {
      "cell_type": "code",
      "source": [
        "# QDA\n",
        "qda = QDA()\n",
        "qda.fit(X_train_scaled, y_train)\n",
        "y_pred_qda = qda.predict(X_test_scaled)\n",
        "\n",
        "# Evaluate model\n",
        "print('QDA Report:')\n",
        "print(\"Confusion Matrix:\")\n",
        "print(confusion_matrix(y_test, y_pred_qda))\n",
        "print(\"Classification Report:\")\n",
        "print(classification_report(y_test, y_pred_qda))\n",
        "print(\"Accuracy:\", accuracy_score(y_test,y_pred_qda))"
      ],
      "metadata": {
        "colab": {
          "base_uri": "https://localhost:8080/"
        },
        "id": "qDyjJgwzCkJE",
        "outputId": "c687983e-413a-4e82-e70d-20f61f8fe3b4"
      },
      "execution_count": null,
      "outputs": [
        {
          "output_type": "stream",
          "name": "stdout",
          "text": [
            "QDA Report:\n",
            "Confusion Matrix:\n",
            "[[55508  1356]\n",
            " [   12    86]]\n",
            "Classification Report:\n",
            "              precision    recall  f1-score   support\n",
            "\n",
            "           0       1.00      0.98      0.99     56864\n",
            "           1       0.06      0.88      0.11        98\n",
            "\n",
            "    accuracy                           0.98     56962\n",
            "   macro avg       0.53      0.93      0.55     56962\n",
            "weighted avg       1.00      0.98      0.99     56962\n",
            "\n",
            "Accuracy: 0.9759839893262174\n"
          ]
        }
      ]
    },
    {
      "cell_type": "code",
      "source": [
        "# Confusion Matrix for QDA\n",
        "conf_matrix = confusion_matrix(y_test, y_pred_qda)\n",
        "sns.heatmap(conf_matrix, annot=True, fmt='d', cmap='Blues')\n",
        "plt.title('QDA Confusion Matrix')\n",
        "plt.xlabel('Predicted')\n",
        "plt.ylabel('Actual')\n",
        "plt.show()"
      ],
      "metadata": {
        "colab": {
          "base_uri": "https://localhost:8080/",
          "height": 472
        },
        "id": "zuH3hUJBE7sb",
        "outputId": "7a56c212-175c-45c2-b7e7-112af731011e"
      },
      "execution_count": null,
      "outputs": [
        {
          "output_type": "display_data",
          "data": {
            "text/plain": [
              "<Figure size 640x480 with 2 Axes>"
            ],
            "image/png": "[encoded data removed]"
          },
          "metadata": {}
        }
      ]
    },
    {
      "cell_type": "code",
      "source": [
        "k_values = range(2, 10)\n",
        "metrics_list = []\n",
        "\n",
        "for k in k_values:\n",
        "    knn = KNeighborsClassifier(n_neighbors=k)\n",
        "    knn.fit(X_train_scaled, y_train)\n",
        "    y_pred = knn.predict(X_test_scaled)\n",
        "\n",
        "    # Get the full classification report as a dict\n",
        "    report = classification_report(y_test, y_pred, output_dict=True)\n",
        "\n",
        "    # Extract metrics for class '1'\n",
        "    accuracy = accuracy_score(y_test, y_pred)\n",
        "    precision = report['1']['precision']\n",
        "    recall = report['1']['recall']\n",
        "    f1 = report['1']['f1-score']\n",
        "    avg = (precision + recall + f1) / 3\n",
        "\n",
        "    metrics_list.append({\n",
        "        'k': k,\n",
        "        'accuracy': accuracy,\n",
        "        'precision_class_1': precision,\n",
        "        'recall_class_1': recall,\n",
        "        'f1_score_class_1': f1,\n",
        "        'avg_metric_class_1': avg\n",
        "    })\n",
        "\n",
        "# Create DataFrame to review all results\n",
        "metrics_df = pd.DataFrame(metrics_list)\n",
        "print(metrics_df)\n",
        "\n",
        "# Select best k based on highest average metric for class 1\n",
        "best_row = metrics_df.loc[metrics_df['avg_metric_class_1'].idxmax()]\n",
        "best_k = int(best_row['k'])\n",
        "\n",
        "print(f'\\nBest k: {best_k} based on best average of accuracy, precision, recall, and F1-score for class 1.')\n",
        "print(best_row)\n",
        "\n",
        "# Final model evaluation\n",
        "final_knn = KNeighborsClassifier(n_neighbors=best_k)\n",
        "final_knn.fit(X_train_scaled, y_train)\n",
        "y_pred_knn =  final_knn.predict(X_test_scaled)\n",
        "\n",
        "print('\\nFinal KNN Report:')\n",
        "print(\"Confusion Matrix:\")\n",
        "print(confusion_matrix(y_test,  y_pred_knn))\n",
        "print(\"Classification Report:\")\n",
        "print(classification_report(y_test,  y_pred_knn))\n",
        "print(\"Accuracy:\", accuracy_score(y_test,y_pred_knn))\n"
      ],
      "metadata": {
        "colab": {
          "base_uri": "https://localhost:8080/"
        },
        "id": "CSokPTkDPT9T",
        "outputId": "a965c15f-0c56-46a2-9b46-ded732dfbd97"
      },
      "execution_count": null,
      "outputs": [
        {
          "output_type": "stream",
          "name": "stdout",
          "text": [
            "   k  accuracy  precision_class_1  recall_class_1  f1_score_class_1  \\\n",
            "0  2  0.999561           0.939759        0.795918          0.861878   \n",
            "1  3  0.999579           0.920455        0.826531          0.870968   \n",
            "2  4  0.999544           0.939024        0.785714          0.855556   \n",
            "3  5  0.999561           0.929412        0.806122          0.863388   \n",
            "4  6  0.999473           0.925000        0.755102          0.831461   \n",
            "5  7  0.999456           0.903614        0.765306          0.828729   \n",
            "6  8  0.999421           0.911392        0.734694          0.813559   \n",
            "7  9  0.999403           0.900000        0.734694          0.808989   \n",
            "\n",
            "   avg_metric_class_1  \n",
            "0            0.865852  \n",
            "1            0.872651  \n",
            "2            0.860098  \n",
            "3            0.866307  \n",
            "4            0.837188  \n",
            "5            0.832550  \n",
            "6            0.819882  \n",
            "7            0.814561  \n",
            "\n",
            "Best k: 3 based on best average of accuracy, precision, recall, and F1-score for class 1.\n",
            "k                     3.000000\n",
            "accuracy              0.999579\n",
            "precision_class_1     0.920455\n",
            "recall_class_1        0.826531\n",
            "f1_score_class_1      0.870968\n",
            "avg_metric_class_1    0.872651\n",
            "Name: 1, dtype: float64\n",
            "\n",
            "Final KNN Report:\n",
            "Confusion Matrix:\n",
            "[[56857     7]\n",
            " [   17    81]]\n",
            "Classification Report:\n",
            "              precision    recall  f1-score   support\n",
            "\n",
            "           0       1.00      1.00      1.00     56864\n",
            "           1       0.92      0.83      0.87        98\n",
            "\n",
            "    accuracy                           1.00     56962\n",
            "   macro avg       0.96      0.91      0.94     56962\n",
            "weighted avg       1.00      1.00      1.00     56962\n",
            "\n",
            "Accuracy: 0.9995786664794073\n"
          ]
        }
      ]
    },
    {
      "cell_type": "code",
      "source": [
        "\n",
        "print(\"Classification Report:\")\n",
        "print(classification_report(y_test,  y_pred_knn))\n",
        "print(\"Accuracy:\", accuracy_score(y_test,y_pred_knn))"
      ],
      "metadata": {
        "colab": {
          "base_uri": "https://localhost:8080/"
        },
        "id": "_hUla-sNS4bw",
        "outputId": "be91b8e3-9f93-4937-f838-7216b7b0f5ef"
      },
      "execution_count": null,
      "outputs": [
        {
          "output_type": "stream",
          "name": "stdout",
          "text": [
            "Classification Report:\n",
            "              precision    recall  f1-score   support\n",
            "\n",
            "           0       1.00      1.00      1.00     56864\n",
            "           1       0.92      0.83      0.87        98\n",
            "\n",
            "    accuracy                           1.00     56962\n",
            "   macro avg       0.96      0.91      0.94     56962\n",
            "weighted avg       1.00      1.00      1.00     56962\n",
            "\n",
            "Accuracy: 0.9995786664794073\n"
          ]
        }
      ]
    },
    {
      "cell_type": "code",
      "source": [
        "1-0.9995786664794073"
      ],
      "metadata": {
        "id": "MoYJnTxLo6ao",
        "colab": {
          "base_uri": "https://localhost:8080/"
        },
        "outputId": "55eb042d-a052-4438-ea0b-6974923d3209"
      },
      "execution_count": null,
      "outputs": [
        {
          "output_type": "execute_result",
          "data": {
            "text/plain": [
              "0.0004213335205927038"
            ]
          },
          "metadata": {},
          "execution_count": 20
        }
      ]
    },
    {
      "cell_type": "code",
      "source": [
        "# Confusion Matrix for KNN\n",
        "conf_matrix = confusion_matrix(y_test, y_pred_knn)\n",
        "sns.heatmap(conf_matrix, annot=True, fmt='d', cmap='Blues')\n",
        "plt.title('KNN Confusion Matrix')\n",
        "plt.xlabel('Predicted')\n",
        "plt.ylabel('Actual')\n",
        "plt.show()"
      ],
      "metadata": {
        "colab": {
          "base_uri": "https://localhost:8080/",
          "height": 472
        },
        "id": "HOZqQQlYFC8Z",
        "outputId": "07013cdb-390d-450e-eed0-af28764e00d0"
      },
      "execution_count": null,
      "outputs": [
        {
          "output_type": "display_data",
          "data": {
            "text/plain": [
              "<Figure size 640x480 with 2 Axes>"
            ],
            "image/png": "[encoded data removed]"
          },
          "metadata": {}
        }
      ]
    },
    {
      "cell_type": "code",
      "source": [
        "# Naive Bayes\n",
        "nb = GaussianNB()\n",
        "nb.fit(X_train_scaled, y_train)\n",
        "y_pred_nb = nb.predict(X_test_scaled)\n",
        "\n",
        "# Evaluate model\n",
        "print('Naive Bayes Report:')\n",
        "print(\"Confusion Matrix:\")\n",
        "print(confusion_matrix(y_test, y_pred_nb))\n",
        "print(\"Classification Report:\")\n",
        "print(classification_report(y_test, y_pred_nb))\n",
        "print(\"Accuracy:\", accuracy_score(y_test,y_pred_nb))\n"
      ],
      "metadata": {
        "colab": {
          "base_uri": "https://localhost:8080/"
        },
        "id": "F44cGtT2Kzyh",
        "outputId": "649287ee-6aef-4c34-f0a6-4f2dd129b1b2"
      },
      "execution_count": null,
      "outputs": [
        {
          "output_type": "stream",
          "name": "stdout",
          "text": [
            "Naive Bayes Report:\n",
            "Confusion Matrix:\n",
            "[[55534  1330]\n",
            " [   15    83]]\n",
            "Classification Report:\n",
            "              precision    recall  f1-score   support\n",
            "\n",
            "           0       1.00      0.98      0.99     56864\n",
            "           1       0.06      0.85      0.11        98\n",
            "\n",
            "    accuracy                           0.98     56962\n",
            "   macro avg       0.53      0.91      0.55     56962\n",
            "weighted avg       1.00      0.98      0.99     56962\n",
            "\n",
            "Accuracy: 0.9763877672834521\n"
          ]
        }
      ]
    },
    {
      "cell_type": "code",
      "source": [
        "# Confusion Matrix for NB\n",
        "conf_matrix = confusion_matrix(y_test, y_pred_nb)\n",
        "sns.heatmap(conf_matrix, annot=True, fmt='d', cmap='Blues')\n",
        "plt.title('Naive Bayes Confusion Matrix')\n",
        "plt.xlabel('Predicted')\n",
        "plt.ylabel('Actual')\n",
        "plt.show()"
      ],
      "metadata": {
        "colab": {
          "base_uri": "https://localhost:8080/",
          "height": 472
        },
        "id": "ObV82hc8LW6l",
        "outputId": "b52e6bfe-03ee-4e21-ecd9-cab2e67bfec4"
      },
      "execution_count": null,
      "outputs": [
        {
          "output_type": "display_data",
          "data": {
            "text/plain": [
              "<Figure size 640x480 with 2 Axes>"
            ],
            "image/png": "[encoded data removed]"
          },
          "metadata": {}
        }
      ]
    },
    {
      "cell_type": "code",
      "source": [
        "# Ensemble Method: Soft Voting Classifier\n",
        "log_reg = LogisticRegression()\n",
        "nb = GaussianNB()\n",
        "knn = KNeighborsClassifier(n_neighbors=k)\n",
        "lda = LDA()\n",
        "qda = QDA()\n",
        "\n",
        "\n",
        "# Create a voting classifier\n",
        "voting_clf = VotingClassifier(estimators=[\n",
        "    ('log_reg', log_reg),\n",
        "    ('nb', nb),\n",
        "    ('knn', knn),\n",
        "    ('lda', lda),\n",
        "    ('qda', qda)\n",
        "\n",
        "], voting='soft')\n",
        "# Train the ensemble model\n",
        "voting_clf.fit(X_train_scaled, y_train)\n",
        "# Make predictions\n",
        "y_pred_ensemble = voting_clf.predict(X_test_scaled)\n",
        "# Evaluate the ensemble model\n",
        "print(\"Ensemble Model Evaluation:\")\n",
        "print(classification_report(y_test, y_pred_ensemble))\n",
        "print(\"Accuracy:\", accuracy_score(y_test, y_pred_ensemble))"
      ],
      "metadata": {
        "colab": {
          "base_uri": "https://localhost:8080/"
        },
        "id": "0iaWe0wTpjdr",
        "outputId": "a65004a8-625f-42ec-ad83-0f79f20d0ac9"
      },
      "execution_count": null,
      "outputs": [
        {
          "output_type": "stream",
          "name": "stdout",
          "text": [
            "Ensemble Model Evaluation:\n",
            "              precision    recall  f1-score   support\n",
            "\n",
            "           0       1.00      1.00      1.00     56864\n",
            "           1       0.80      0.84      0.82        98\n",
            "\n",
            "    accuracy                           1.00     56962\n",
            "   macro avg       0.90      0.92      0.91     56962\n",
            "weighted avg       1.00      1.00      1.00     56962\n",
            "\n",
            "Accuracy: 0.9993504441557529\n"
          ]
        }
      ]
    },
    {
      "cell_type": "code",
      "source": [
        "# Model Evaluation\n",
        "# Store all models' predictions and evaluate them\n",
        "models = {\n",
        "    \"Logistic Regression\": y_pred_logreg,\n",
        "    \"LDA\": y_pred_lda,\n",
        "    \"QDA\": y_pred_qda,\n",
        "    \"KNN\": y_pred_knn,\n",
        "    \"Naive Bayes\": y_pred_nb,\n",
        "    \"Ensemble\": y_pred_ensemble\n",
        "}\n",
        "\n",
        "results = [] # List to store evaluation results for each model\n",
        "for name, y_pred in models.items():\n",
        "    # Evaluate each model by calculating accuracy, precision, recall, and F1 score\n",
        "    accuracy = accuracy_score(y_test, y_pred)\n",
        "    precision = classification_report(y_test, y_pred, output_dict=True)['1']['precision']\n",
        "    recall = classification_report(y_test, y_pred, output_dict=True)['1']['recall']\n",
        "    f1_score = classification_report(y_test, y_pred, output_dict=True)['1']['f1-score']\n",
        "    results.append([name, accuracy, precision, recall, f1_score])\n",
        "\n",
        "# Convert results to DataFrame for better visualization\n",
        "results_df = pd.DataFrame(results, columns=['Model', 'Accuracy', 'Precision', 'Recall', 'F1 Score'])\n",
        "final = print(results_df.to_string(index=False))"
      ],
      "metadata": {
        "colab": {
          "base_uri": "https://localhost:8080/"
        },
        "id": "5pRRsHedHP_6",
        "outputId": "afcb4dc8-798e-4015-c3f3-9c31f41ece59"
      },
      "execution_count": null,
      "outputs": [
        {
          "output_type": "stream",
          "name": "stdout",
          "text": [
            "              Model  Accuracy  Precision   Recall  F1 Score\n",
            "Logistic Regression  0.999157   0.828947 0.642857  0.724138\n",
            "                LDA  0.999368   0.822917 0.806122  0.814433\n",
            "                QDA  0.975984   0.059639 0.877551  0.111688\n",
            "                KNN  0.999579   0.920455 0.826531  0.870968\n",
            "        Naive Bayes  0.976388   0.058740 0.846939  0.109861\n",
            "           Ensemble  0.999350   0.796117 0.836735  0.815920\n"
          ]
        }
      ]
    },
    {
      "cell_type": "markdown",
      "source": [
        "        Deep Learning Method\n",
        "\n",
        "\n",
        "\n",
        "*   CNN is great for identifying spatial relationships in the input features, making it well-suited for fraud detection with structured data.\n",
        "\n",
        "        CNN Model: It applies a convolutional layer to the data followed by a fully connected layer, using the ReLU activation and sigmoid for binary classification.\n",
        "\n",
        "*   RNN explores if there's a time-series or sequence pattern in the transactions, even though this dataset may not naturally represent time steps.\n",
        "\n",
        "        RNN Model: It uses a recurrent neural network to process sequential data, followed by a fully connected layer and a sigmoid activation for the final prediction.\n"
      ],
      "metadata": {
        "id": "YgazAZw6QSgc"
      }
    },
    {
      "cell_type": "markdown",
      "source": [
        "1. Data Preprocessing\n",
        "\n",
        "\n",
        "*   Tensor Conversion: Input features (`X_train_scaled`, `X_test_scaled`) and labels (`y_train`, `y_test`) are converted to PyTorch tensors using `torch.tensor()` for compatibility with neural network models.\n",
        "*   Batching: Both CNN and RNN models use `DataLoader` to efficiently handle data batching. Batches are shuffled during training for better generalization.\n"
      ],
      "metadata": {
        "id": "w2KrM591QVq0"
      }
    },
    {
      "cell_type": "markdown",
      "source": [
        "2. CNN Model:\n",
        "Defining the CNN model: The FraudCNN class defines a simple CNN with:\n",
        "\n",
        "    A 1D convolutional layer (conv1) with 16 output channels, kernel size 3, and padding 1.\n",
        "\n",
        "    A ReLU activation function.\n",
        "\n",
        "    A fully connected layer (fc) that reduces the features after the convolution to a single output.\n",
        "\n",
        "    A sigmoid activation function to output probabilities.\n",
        "\n",
        "Training the CNN: The CNN is trained using the Adam optimizer and binary cross-entropy loss (BCELoss), iterating over the training data for 10 epochs. For each batch, the gradients are zeroed, the model makes predictions, and the loss is calculated and used for backpropagation to update the model's parameters."
      ],
      "metadata": {
        "id": "2Uo5GOGFQn-0"
      }
    },
    {
      "cell_type": "markdown",
      "source": [
        "> An epoch in machine learning refers to one complete pass through the entire training dataset during the model training process. In each epoch, the model’s parameters (weights) are adjusted based on the computed errors (or loss) to minimize the difference between predicted and actual outputs. Typically, training a model involves running several epochs to allow the model to learn from the data and improve its performance over time. The number of epochs is a hyperparameter that can be set before training, and more epochs usually lead to better learning, up to a point where overfitting might occur if training continues for too long.\n",
        "\n"
      ],
      "metadata": {
        "id": "5n0609QaQwPQ"
      }
    },
    {
      "cell_type": "code",
      "source": [
        "import torch\n",
        "import torch.nn as nn\n",
        "import torch.optim as optim\n",
        "from torch.utils.data import TensorDataset, DataLoader\n",
        "from sklearn.metrics import accuracy_score, precision_score, recall_score, f1_score, confusion_matrix\n",
        "\n",
        "import random\n",
        "import numpy as np\n",
        "import torch\n",
        "\n",
        "SEED = 42\n",
        "random.seed(SEED)\n",
        "np.random.seed(SEED)\n",
        "torch.manual_seed(SEED)\n",
        "torch.cuda.manual_seed_all(SEED)\n",
        "torch.backends.cudnn.deterministic = True\n",
        "torch.backends.cudnn.benchmark = False\n",
        "\n",
        "# Convert data to PyTorch tensors\n",
        "def to_tensor(data):\n",
        "    return torch.tensor(data, dtype=torch.float32)\n",
        "\n",
        "X_train_torch = to_tensor(X_train_scaled)\n",
        "X_test_torch = to_tensor(X_test_scaled)\n",
        "y_train_torch = to_tensor(y_train.values)\n",
        "y_test_torch = to_tensor(y_test.values)\n",
        "\n",
        "# Define utility function for evaluation\n",
        "def evaluate_model(model, X_test, y_test):\n",
        "    model.eval()\n",
        "    with torch.no_grad():\n",
        "        y_pred = model(X_test).squeeze().round()\n",
        "        print(\"Accuracy:\", accuracy_score(y_test, y_pred))\n",
        "        print(\"Precision:\", precision_score(y_test, y_pred))\n",
        "        print(\"Recall:\", recall_score(y_test, y_pred))\n",
        "        print(\"F1 Score:\", f1_score(y_test, y_pred))\n",
        "        print(\"Confusion Matrix:\\n\", confusion_matrix(y_test, y_pred))\n",
        "\n",
        "\n",
        "# CNN: Feature pattern learning (Ch. 4 style)\n",
        "\n",
        "\n",
        "# Prepare CNN input tensors (add channel dimension)\n",
        "X_train_cnn = X_train_torch.unsqueeze(1)\n",
        "X_test_cnn = X_test_torch.unsqueeze(1)\n",
        "\n",
        "# DataLoaders\n",
        "cnn_train = DataLoader(TensorDataset(X_train_cnn, y_train_torch), batch_size=64, shuffle=True)\n",
        "cnn_test = DataLoader(TensorDataset(X_test_cnn, y_test_torch), batch_size=64)\n",
        "\n",
        "# CNN Model\n",
        "class FraudCNN(nn.Module):\n",
        "    def __init__(self):\n",
        "        super().__init__()\n",
        "        self.model = nn.Sequential(\n",
        "            nn.Conv1d(1, 16, kernel_size=3, padding=1),\n",
        "            nn.ReLU(),\n",
        "            nn.Dropout(0.5),\n",
        "            nn.Flatten(),\n",
        "            nn.Linear(16 * 29, 1),\n",
        "            nn.Sigmoid()\n",
        "        )\n",
        "\n",
        "    def forward(self, x):\n",
        "        return self.model(x)\n",
        "\n",
        "cnn_model = FraudCNN()\n",
        "criterion = nn.BCELoss()\n",
        "optimizer = optim.Adam(cnn_model.parameters(), lr=0.001)\n",
        "\n",
        "# Training loop (Ch. 5 & 7 style)\n",
        "for epoch in range(10):\n",
        "    cnn_model.train()\n",
        "    for X_batch, y_batch in cnn_train:\n",
        "        optimizer.zero_grad()\n",
        "        y_pred = cnn_model(X_batch).squeeze()\n",
        "        loss = criterion(y_pred, y_batch)\n",
        "        loss.backward()\n",
        "        optimizer.step()\n",
        "    print(f\"[CNN] Epoch {epoch+1}, Loss: {loss.item():.4f}\")\n",
        "\n",
        "print(\"\\nCNN Evaluation:\")\n",
        "evaluate_model(cnn_model, X_test_cnn, y_test_torch)"
      ],
      "metadata": {
        "colab": {
          "base_uri": "https://localhost:8080/"
        },
        "id": "PDP9TSfJKSqX",
        "outputId": "16ff7e55-9c22-41ef-8a75-5ce3419f3812"
      },
      "execution_count": null,
      "outputs": [
        {
          "output_type": "stream",
          "name": "stdout",
          "text": [
            "[CNN] Epoch 1, Loss: 0.0004\n",
            "[CNN] Epoch 2, Loss: 0.0000\n",
            "[CNN] Epoch 3, Loss: 0.0000\n",
            "[CNN] Epoch 4, Loss: 0.0002\n",
            "[CNN] Epoch 5, Loss: 0.0000\n",
            "[CNN] Epoch 6, Loss: 0.0002\n",
            "[CNN] Epoch 7, Loss: 0.0000\n",
            "[CNN] Epoch 8, Loss: 0.0006\n",
            "[CNN] Epoch 9, Loss: 0.0000\n",
            "[CNN] Epoch 10, Loss: 0.0001\n",
            "\n",
            "CNN Evaluation:\n",
            "Accuracy: 0.9993328885923949\n",
            "Precision: 0.8125\n",
            "Recall: 0.7959183673469388\n",
            "F1 Score: 0.8041237113402062\n",
            "Confusion Matrix:\n",
            " [[56846    18]\n",
            " [   20    78]]\n"
          ]
        }
      ]
    },
    {
      "cell_type": "markdown",
      "source": [
        "> The CNN model achieved a very high accuracy of 99.93%, indicating it correctly classified most samples in the dataset. However, the fluctuating loss values across epochs suggest some instability in the training process, possibly due to overfitting or an unsuitable learning rate. While the high accuracy is promising, it’s essential to consider other metrics, like precision and recall, to ensure the model effectively identifies the minority class (fraud).\n",
        "\n",
        " While the model perfectly predicted the majority class (non-fraud) with 100% accuracy, its performance on the minority class (fraud) showed lower values, with precision of 0.81 and recall of 0.80.\n",
        "\n"
      ],
      "metadata": {
        "id": "Agtj2tAnRboq"
      }
    },
    {
      "cell_type": "markdown",
      "source": [
        "3. RNN Model:\n",
        "  Defining the RNN model: The FraudRNN class defines an RNN with:\n",
        "\n",
        "    An RNN layer (rnn) with a hidden size of 64.\n",
        "\n",
        "    A fully connected layer (fc) that converts the RNN's output into a single prediction.\n",
        "\n",
        "    A sigmoid activation function for binary classification.\n",
        "\n",
        "    Training the RNN: Similar to the CNN model, the RNN is trained using the Adam optimizer and binary cross-entropy loss, iterating over the training data for 10 epochs."
      ],
      "metadata": {
        "id": "QWkIaYnQRuXu"
      }
    },
    {
      "cell_type": "code",
      "source": [
        "# RNN: Sequential modeling (Ch. 6 style)\n",
        "\n",
        "SEED = 42\n",
        "random.seed(SEED)\n",
        "np.random.seed(SEED)\n",
        "torch.manual_seed(SEED)\n",
        "torch.cuda.manual_seed_all(SEED)\n",
        "torch.backends.cudnn.deterministic = True\n",
        "torch.backends.cudnn.benchmark = False\n",
        "\n",
        "# Prepare RNN input (as time sequence of one step)\n",
        "X_train_rnn = X_train_torch.unsqueeze(1)\n",
        "X_test_rnn = X_test_torch.unsqueeze(1)\n",
        "\n",
        "rnn_train = DataLoader(TensorDataset(X_train_rnn, y_train_torch), batch_size=64, shuffle=True)\n",
        "rnn_test = DataLoader(TensorDataset(X_test_rnn, y_test_torch), batch_size=64)\n",
        "\n",
        "class FraudRNN(nn.Module):\n",
        "    def __init__(self):\n",
        "        super().__init__()\n",
        "        self.rnn = nn.RNN(input_size=29, hidden_size=64, batch_first=True)\n",
        "        self.dropout = nn.Dropout(0.3)\n",
        "        self.fc = nn.Linear(64, 1)\n",
        "        self.sigmoid = nn.Sigmoid()\n",
        "\n",
        "    def forward(self, x):\n",
        "        _, h_n = self.rnn(x)\n",
        "        x = self.dropout(h_n[-1])  # get last hidden state properly\n",
        "        x = self.fc(x)\n",
        "        return self.sigmoid(x).squeeze(-1)  # ensure shape is (batch_size,)\n",
        "\n",
        "rnn_model = FraudRNN()\n",
        "optimizer_rnn = optim.Adam(rnn_model.parameters(), lr=0.001)\n",
        "\n",
        "for epoch in range(10):\n",
        "    rnn_model.train()\n",
        "    for X_batch, y_batch in rnn_train:\n",
        "        optimizer_rnn.zero_grad()\n",
        "        y_pred = rnn_model(X_batch).squeeze()\n",
        "        loss = criterion(y_pred, y_batch)\n",
        "        loss.backward()\n",
        "        optimizer_rnn.step()\n",
        "    print(f\"[RNN] Epoch {epoch+1}, Loss: {loss.item():.4f}\")\n",
        "\n",
        "print(\"\\nRNN Evaluation:\")\n",
        "evaluate_model(rnn_model, X_test_rnn, y_test_torch)"
      ],
      "metadata": {
        "colab": {
          "base_uri": "https://localhost:8080/"
        },
        "id": "aVgx9rdkRNw-",
        "outputId": "846d5fc7-c8c1-4200-9bdb-29d3c155081d"
      },
      "execution_count": null,
      "outputs": [
        {
          "output_type": "stream",
          "name": "stdout",
          "text": [
            "[RNN] Epoch 1, Loss: 0.0002\n",
            "[RNN] Epoch 2, Loss: 0.0001\n",
            "[RNN] Epoch 3, Loss: 0.0002\n",
            "[RNN] Epoch 4, Loss: 0.0132\n",
            "[RNN] Epoch 5, Loss: 0.0003\n",
            "[RNN] Epoch 6, Loss: 0.0000\n",
            "[RNN] Epoch 7, Loss: 0.0001\n",
            "[RNN] Epoch 8, Loss: 0.0001\n",
            "[RNN] Epoch 9, Loss: 0.0013\n",
            "[RNN] Epoch 10, Loss: 0.0003\n",
            "\n",
            "RNN Evaluation:\n",
            "Accuracy: 0.9994382219725431\n",
            "Precision: 0.851063829787234\n",
            "Recall: 0.8163265306122449\n",
            "F1 Score: 0.8333333333333334\n",
            "Confusion Matrix:\n",
            " [[56850    14]\n",
            " [   18    80]]\n"
          ]
        }
      ]
    },
    {
      "cell_type": "markdown",
      "source": [
        "The RNN model achieved an impressive overall accuracy of 99.94%, demonstrating strong performance on the majority class (non-fraud). While it perfectly predicted the non-fraud class with 100% accuracy, the fraud class (class 1) had precision(0.85) and recall (0.82), indicating the model's struggle with the minority class."
      ],
      "metadata": {
        "id": "cZtFiEtpSISp"
      }
    },
    {
      "cell_type": "code",
      "source": [
        "# Model Evaluation\n",
        "# Store all models' predictions and evaluate them\n",
        "models = {\n",
        "    \"Logistic Regression\": y_pred_logreg,\n",
        "    \"LDA\": y_pred_lda,\n",
        "    \"QDA\": y_pred_qda,\n",
        "    \"KNN\": y_pred_knn,\n",
        "    \"Naive Bayes\": y_pred_nb,\n",
        "    \"Ensemble\": y_pred_ensemble,\n",
        "    \"CNN\": cnn_model(X_test_cnn).detach().squeeze().round(),\n",
        "    \"RNN\": rnn_model(X_test_rnn).detach().squeeze().round()\n",
        "}\n",
        "\n",
        "results = [] # List to store evaluation results for each model\n",
        "for name, y_pred in models.items():\n",
        "    # Evaluate each model by calculating accuracy, precision, recall, and F1 score\n",
        "    accuracy = accuracy_score(y_test, y_pred)\n",
        "    precision = classification_report(y_test, y_pred, output_dict=True)['1']['precision']\n",
        "    recall = classification_report(y_test, y_pred, output_dict=True)['1']['recall']\n",
        "    f1_score = classification_report(y_test, y_pred, output_dict=True)['1']['f1-score']\n",
        "    results.append([name, accuracy, precision, recall, f1_score])\n",
        "\n",
        "# Convert results to DataFrame for better visualization\n",
        "results_df = pd.DataFrame(results, columns=['Model', 'Accuracy', 'Precision', 'Recall', 'F1 Score'])\n",
        "final = print(results_df.to_string(index=False))"
      ],
      "metadata": {
        "colab": {
          "base_uri": "https://localhost:8080/"
        },
        "id": "-nY3PyMBNM9r",
        "outputId": "06275be8-b371-41ce-bba5-214c6f003cb6"
      },
      "execution_count": null,
      "outputs": [
        {
          "output_type": "stream",
          "name": "stdout",
          "text": [
            "              Model  Accuracy  Precision   Recall  F1 Score\n",
            "Logistic Regression  0.999157   0.828947 0.642857  0.724138\n",
            "                LDA  0.999368   0.822917 0.806122  0.814433\n",
            "                QDA  0.975984   0.059639 0.877551  0.111688\n",
            "                KNN  0.999579   0.920455 0.826531  0.870968\n",
            "        Naive Bayes  0.976388   0.058740 0.846939  0.109861\n",
            "           Ensemble  0.999350   0.796117 0.836735  0.815920\n",
            "                CNN  0.999333   0.812500 0.795918  0.804124\n",
            "                RNN  0.999438   0.851064 0.816327  0.833333\n"
          ]
        }
      ]
    },
    {
      "cell_type": "markdown",
      "source": [
        "\n",
        "\n",
        "> The KNN model provides the best performance for fraud detection, achieving the highest recall (0.8265) and a strong F1 score (0.871), demonstrating its ability to correctly identify a majority of fraudulent cases while maintaining a good balance between precision and recall. Although other models like LDA and RNN also show strong performance, KNN outperforms them with a higher recall and F1 score, making it the most suitable model for detecting fraud in this dataset. This suggests that KNN can effectively capture fraud cases while minimizing false positives, making it a reliable choice for this task.\n",
        "\n",
        "\n"
      ],
      "metadata": {
        "id": "HgG-4HfwXrkW"
      }
    }
  ]
}